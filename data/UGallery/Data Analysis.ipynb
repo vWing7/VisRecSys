{
 "cells": [
  {
   "cell_type": "markdown",
   "metadata": {},
   "source": [
    "# UGallery dataset"
   ]
  },
  {
   "cell_type": "code",
   "execution_count": 1,
   "metadata": {},
   "outputs": [],
   "source": [
    "from datetime import datetime\n",
    "\n",
    "import matplotlib.pyplot as plt\n",
    "import numpy as np\n",
    "import pandas as pd\n",
    "import seaborn as sns\n",
    "%config InlineBackend.figure_format = 'retina'"
   ]
  },
  {
   "cell_type": "markdown",
   "metadata": {},
   "source": [
    "## Artworks data"
   ]
  },
  {
   "cell_type": "code",
   "execution_count": 2,
   "metadata": {},
   "outputs": [
    {
     "data": {
      "text/html": [
       "<div>\n",
       "<style scoped>\n",
       "    .dataframe tbody tr th:only-of-type {\n",
       "        vertical-align: middle;\n",
       "    }\n",
       "\n",
       "    .dataframe tbody tr th {\n",
       "        vertical-align: top;\n",
       "    }\n",
       "\n",
       "    .dataframe thead th {\n",
       "        text-align: right;\n",
       "    }\n",
       "</style>\n",
       "<table border=\"1\" class=\"dataframe\">\n",
       "  <thead>\n",
       "    <tr style=\"text-align: right;\">\n",
       "      <th></th>\n",
       "      <th>id</th>\n",
       "      <th>artist_id</th>\n",
       "      <th>upload_date</th>\n",
       "      <th>original</th>\n",
       "      <th>medium_id</th>\n",
       "    </tr>\n",
       "  </thead>\n",
       "  <tbody>\n",
       "    <tr>\n",
       "      <th>0</th>\n",
       "      <td>32769</td>\n",
       "      <td>11208</td>\n",
       "      <td>2014-06-25 07:07:27.223</td>\n",
       "      <td>t</td>\n",
       "      <td>0</td>\n",
       "    </tr>\n",
       "    <tr>\n",
       "      <th>1</th>\n",
       "      <td>32771</td>\n",
       "      <td>15061</td>\n",
       "      <td>2014-06-25 11:05:29.413</td>\n",
       "      <td>t</td>\n",
       "      <td>12</td>\n",
       "    </tr>\n",
       "    <tr>\n",
       "      <th>2</th>\n",
       "      <td>38230</td>\n",
       "      <td>1169</td>\n",
       "      <td>2015-04-29 17:33:10.29</td>\n",
       "      <td>t</td>\n",
       "      <td>12</td>\n",
       "    </tr>\n",
       "    <tr>\n",
       "      <th>3</th>\n",
       "      <td>16391</td>\n",
       "      <td>9175</td>\n",
       "      <td>2011-09-12 19:46:44.093</td>\n",
       "      <td>f</td>\n",
       "      <td>12</td>\n",
       "    </tr>\n",
       "    <tr>\n",
       "      <th>4</th>\n",
       "      <td>49163</td>\n",
       "      <td>27661</td>\n",
       "      <td>2016-10-17 11:47:05.107</td>\n",
       "      <td>f</td>\n",
       "      <td>16</td>\n",
       "    </tr>\n",
       "  </tbody>\n",
       "</table>\n",
       "</div>"
      ],
      "text/plain": [
       "      id  artist_id              upload_date original  medium_id\n",
       "0  32769      11208  2014-06-25 07:07:27.223        t          0\n",
       "1  32771      15061  2014-06-25 11:05:29.413        t         12\n",
       "2  38230       1169   2015-04-29 17:33:10.29        t         12\n",
       "3  16391       9175  2011-09-12 19:46:44.093        f         12\n",
       "4  49163      27661  2016-10-17 11:47:05.107        f         16"
      ]
     },
     "execution_count": 2,
     "metadata": {},
     "output_type": "execute_result"
    }
   ],
   "source": [
    "artworks = pd.read_csv(\"valid_artworks.csv\")\n",
    "artworks.head()"
   ]
  },
  {
   "cell_type": "code",
   "execution_count": 3,
   "metadata": {},
   "outputs": [],
   "source": [
    "artworks[\"artwork_id\"] = artworks[\"id\"]"
   ]
  },
  {
   "cell_type": "markdown",
   "metadata": {},
   "source": [
    "## Sales data"
   ]
  },
  {
   "cell_type": "code",
   "execution_count": 4,
   "metadata": {},
   "outputs": [
    {
     "data": {
      "text/html": [
       "<div>\n",
       "<style scoped>\n",
       "    .dataframe tbody tr th:only-of-type {\n",
       "        vertical-align: middle;\n",
       "    }\n",
       "\n",
       "    .dataframe tbody tr th {\n",
       "        vertical-align: top;\n",
       "    }\n",
       "\n",
       "    .dataframe thead th {\n",
       "        text-align: right;\n",
       "    }\n",
       "</style>\n",
       "<table border=\"1\" class=\"dataframe\">\n",
       "  <thead>\n",
       "    <tr style=\"text-align: right;\">\n",
       "      <th></th>\n",
       "      <th>id</th>\n",
       "      <th>customer_id</th>\n",
       "      <th>artwork_id</th>\n",
       "      <th>order_date</th>\n",
       "    </tr>\n",
       "  </thead>\n",
       "  <tbody>\n",
       "    <tr>\n",
       "      <th>0</th>\n",
       "      <td>2207</td>\n",
       "      <td>25133</td>\n",
       "      <td>21084</td>\n",
       "      <td>2015-02-16 21:12:53.993</td>\n",
       "    </tr>\n",
       "    <tr>\n",
       "      <th>1</th>\n",
       "      <td>4840</td>\n",
       "      <td>31652</td>\n",
       "      <td>40809</td>\n",
       "      <td>2016-03-13 11:30:24.777</td>\n",
       "    </tr>\n",
       "    <tr>\n",
       "      <th>2</th>\n",
       "      <td>266</td>\n",
       "      <td>18993</td>\n",
       "      <td>27421</td>\n",
       "      <td>2014-03-05 12:29:36.917</td>\n",
       "    </tr>\n",
       "    <tr>\n",
       "      <th>3</th>\n",
       "      <td>2124</td>\n",
       "      <td>21535</td>\n",
       "      <td>27596</td>\n",
       "      <td>2015-02-03 23:32:22.113</td>\n",
       "    </tr>\n",
       "    <tr>\n",
       "      <th>4</th>\n",
       "      <td>7253</td>\n",
       "      <td>8836</td>\n",
       "      <td>50963</td>\n",
       "      <td>2017-12-13 14:43:17.92</td>\n",
       "    </tr>\n",
       "  </tbody>\n",
       "</table>\n",
       "</div>"
      ],
      "text/plain": [
       "     id  customer_id  artwork_id               order_date\n",
       "0  2207        25133       21084  2015-02-16 21:12:53.993\n",
       "1  4840        31652       40809  2016-03-13 11:30:24.777\n",
       "2   266        18993       27421  2014-03-05 12:29:36.917\n",
       "3  2124        21535       27596  2015-02-03 23:32:22.113\n",
       "4  7253         8836       50963   2017-12-13 14:43:17.92"
      ]
     },
     "execution_count": 4,
     "metadata": {},
     "output_type": "execute_result"
    }
   ],
   "source": [
    "sales = pd.read_csv(\"valid_sales.csv\")\n",
    "sales.head()"
   ]
  },
  {
   "cell_type": "code",
   "execution_count": 5,
   "metadata": {},
   "outputs": [
    {
     "name": "stdout",
     "output_type": "stream",
     "text": [
      "Sales shape (6535, 4)\n",
      "Artworks shape (7742, 6)\n"
     ]
    }
   ],
   "source": [
    "print(\"Sales shape\", sales.shape)\n",
    "print(\"Artworks shape\", artworks.shape)"
   ]
  },
  {
   "cell_type": "markdown",
   "metadata": {},
   "source": [
    "There are 6535 rows in the sales file, but possibly less transactions, because a single transaction can include more than an item."
   ]
  },
  {
   "cell_type": "code",
   "execution_count": 6,
   "metadata": {},
   "outputs": [],
   "source": [
    "# Check if all arworks ids from sales exist in artworks\n",
    "assert all(s in artworks[\"id\"].values for s in sales[\"artwork_id\"].values)"
   ]
  },
  {
   "cell_type": "markdown",
   "metadata": {},
   "source": [
    "## Interactions data"
   ]
  },
  {
   "cell_type": "code",
   "execution_count": 7,
   "metadata": {},
   "outputs": [],
   "source": [
    "data = pd.merge(sales[[\"customer_id\", \"artwork_id\", \"order_date\"]], artworks[[\"artwork_id\", \"artist_id\"]], on=\"artwork_id\", how=\"left\")"
   ]
  },
  {
   "cell_type": "code",
   "execution_count": 8,
   "metadata": {},
   "outputs": [
    {
     "name": "stdout",
     "output_type": "stream",
     "text": [
      "<class 'pandas.core.frame.DataFrame'>\n",
      "Int64Index: 6535 entries, 0 to 6534\n",
      "Data columns (total 4 columns):\n",
      " #   Column       Non-Null Count  Dtype \n",
      "---  ------       --------------  ----- \n",
      " 0   customer_id  6535 non-null   int64 \n",
      " 1   artwork_id   6535 non-null   int64 \n",
      " 2   order_date   6535 non-null   object\n",
      " 3   artist_id    6535 non-null   int64 \n",
      "dtypes: int64(3), object(1)\n",
      "memory usage: 255.3+ KB\n"
     ]
    }
   ],
   "source": [
    "data.info()"
   ]
  },
  {
   "cell_type": "markdown",
   "metadata": {},
   "source": [
    "No missing values in this dataframe. `order_date` is stored as an object, but could be stored as timestamp easily:"
   ]
  },
  {
   "cell_type": "code",
   "execution_count": 9,
   "metadata": {},
   "outputs": [],
   "source": [
    "data[\"date\"] = data[\"order_date\"].apply(lambda t: int(datetime.strptime(t[:19], \"%Y-%m-%d %H:%M:%S\").timestamp()))"
   ]
  },
  {
   "cell_type": "code",
   "execution_count": 10,
   "metadata": {},
   "outputs": [
    {
     "data": {
      "text/html": [
       "<div>\n",
       "<style scoped>\n",
       "    .dataframe tbody tr th:only-of-type {\n",
       "        vertical-align: middle;\n",
       "    }\n",
       "\n",
       "    .dataframe tbody tr th {\n",
       "        vertical-align: top;\n",
       "    }\n",
       "\n",
       "    .dataframe thead th {\n",
       "        text-align: right;\n",
       "    }\n",
       "</style>\n",
       "<table border=\"1\" class=\"dataframe\">\n",
       "  <thead>\n",
       "    <tr style=\"text-align: right;\">\n",
       "      <th></th>\n",
       "      <th>customer_id</th>\n",
       "      <th>artwork_id</th>\n",
       "      <th>order_date</th>\n",
       "      <th>artist_id</th>\n",
       "      <th>date</th>\n",
       "    </tr>\n",
       "  </thead>\n",
       "  <tbody>\n",
       "    <tr>\n",
       "      <th>0</th>\n",
       "      <td>25133</td>\n",
       "      <td>21084</td>\n",
       "      <td>2015-02-16 21:12:53.993</td>\n",
       "      <td>9410</td>\n",
       "      <td>1424131973</td>\n",
       "    </tr>\n",
       "    <tr>\n",
       "      <th>1</th>\n",
       "      <td>31652</td>\n",
       "      <td>40809</td>\n",
       "      <td>2016-03-13 11:30:24.777</td>\n",
       "      <td>28202</td>\n",
       "      <td>1457879424</td>\n",
       "    </tr>\n",
       "    <tr>\n",
       "      <th>2</th>\n",
       "      <td>18993</td>\n",
       "      <td>27421</td>\n",
       "      <td>2014-03-05 12:29:36.917</td>\n",
       "      <td>14720</td>\n",
       "      <td>1394033376</td>\n",
       "    </tr>\n",
       "    <tr>\n",
       "      <th>3</th>\n",
       "      <td>21535</td>\n",
       "      <td>27596</td>\n",
       "      <td>2015-02-03 23:32:22.113</td>\n",
       "      <td>12776</td>\n",
       "      <td>1423017142</td>\n",
       "    </tr>\n",
       "    <tr>\n",
       "      <th>4</th>\n",
       "      <td>8836</td>\n",
       "      <td>50963</td>\n",
       "      <td>2017-12-13 14:43:17.92</td>\n",
       "      <td>19348</td>\n",
       "      <td>1513186997</td>\n",
       "    </tr>\n",
       "  </tbody>\n",
       "</table>\n",
       "</div>"
      ],
      "text/plain": [
       "   customer_id  artwork_id               order_date  artist_id        date\n",
       "0        25133       21084  2015-02-16 21:12:53.993       9410  1424131973\n",
       "1        31652       40809  2016-03-13 11:30:24.777      28202  1457879424\n",
       "2        18993       27421  2014-03-05 12:29:36.917      14720  1394033376\n",
       "3        21535       27596  2015-02-03 23:32:22.113      12776  1423017142\n",
       "4         8836       50963   2017-12-13 14:43:17.92      19348  1513186997"
      ]
     },
     "execution_count": 10,
     "metadata": {},
     "output_type": "execute_result"
    }
   ],
   "source": [
    "data.head()"
   ]
  },
  {
   "cell_type": "code",
   "execution_count": 11,
   "metadata": {},
   "outputs": [
    {
     "data": {
      "text/html": [
       "<div>\n",
       "<style scoped>\n",
       "    .dataframe tbody tr th:only-of-type {\n",
       "        vertical-align: middle;\n",
       "    }\n",
       "\n",
       "    .dataframe tbody tr th {\n",
       "        vertical-align: top;\n",
       "    }\n",
       "\n",
       "    .dataframe thead th {\n",
       "        text-align: right;\n",
       "    }\n",
       "</style>\n",
       "<table border=\"1\" class=\"dataframe\">\n",
       "  <thead>\n",
       "    <tr style=\"text-align: right;\">\n",
       "      <th></th>\n",
       "      <th>customer_id</th>\n",
       "      <th>artwork_id</th>\n",
       "      <th>artist_id</th>\n",
       "      <th>date</th>\n",
       "    </tr>\n",
       "  </thead>\n",
       "  <tbody>\n",
       "    <tr>\n",
       "      <th>count</th>\n",
       "      <td>6535.000000</td>\n",
       "      <td>6535.000000</td>\n",
       "      <td>6535.000000</td>\n",
       "      <td>6.535000e+03</td>\n",
       "    </tr>\n",
       "    <tr>\n",
       "      <th>mean</th>\n",
       "      <td>27342.026473</td>\n",
       "      <td>39256.486305</td>\n",
       "      <td>16679.781025</td>\n",
       "      <td>1.457700e+09</td>\n",
       "    </tr>\n",
       "    <tr>\n",
       "      <th>std</th>\n",
       "      <td>9474.240096</td>\n",
       "      <td>12181.923937</td>\n",
       "      <td>9834.853123</td>\n",
       "      <td>4.011590e+07</td>\n",
       "    </tr>\n",
       "    <tr>\n",
       "      <th>min</th>\n",
       "      <td>269.000000</td>\n",
       "      <td>2383.000000</td>\n",
       "      <td>191.000000</td>\n",
       "      <td>1.388591e+09</td>\n",
       "    </tr>\n",
       "    <tr>\n",
       "      <th>25%</th>\n",
       "      <td>20779.000000</td>\n",
       "      <td>31010.500000</td>\n",
       "      <td>8603.000000</td>\n",
       "      <td>1.424074e+09</td>\n",
       "    </tr>\n",
       "    <tr>\n",
       "      <th>50%</th>\n",
       "      <td>27015.000000</td>\n",
       "      <td>39558.000000</td>\n",
       "      <td>15720.000000</td>\n",
       "      <td>1.452803e+09</td>\n",
       "    </tr>\n",
       "    <tr>\n",
       "      <th>75%</th>\n",
       "      <td>34595.000000</td>\n",
       "      <td>49615.500000</td>\n",
       "      <td>23919.000000</td>\n",
       "      <td>1.493595e+09</td>\n",
       "    </tr>\n",
       "    <tr>\n",
       "      <th>max</th>\n",
       "      <td>44627.000000</td>\n",
       "      <td>60160.000000</td>\n",
       "      <td>44220.000000</td>\n",
       "      <td>1.527820e+09</td>\n",
       "    </tr>\n",
       "  </tbody>\n",
       "</table>\n",
       "</div>"
      ],
      "text/plain": [
       "        customer_id    artwork_id     artist_id          date\n",
       "count   6535.000000   6535.000000   6535.000000  6.535000e+03\n",
       "mean   27342.026473  39256.486305  16679.781025  1.457700e+09\n",
       "std     9474.240096  12181.923937   9834.853123  4.011590e+07\n",
       "min      269.000000   2383.000000    191.000000  1.388591e+09\n",
       "25%    20779.000000  31010.500000   8603.000000  1.424074e+09\n",
       "50%    27015.000000  39558.000000  15720.000000  1.452803e+09\n",
       "75%    34595.000000  49615.500000  23919.000000  1.493595e+09\n",
       "max    44627.000000  60160.000000  44220.000000  1.527820e+09"
      ]
     },
     "execution_count": 11,
     "metadata": {},
     "output_type": "execute_result"
    }
   ],
   "source": [
    "data.describe()"
   ]
  },
  {
   "cell_type": "markdown",
   "metadata": {},
   "source": [
    "Sort sales data by timestamp."
   ]
  },
  {
   "cell_type": "code",
   "execution_count": 12,
   "metadata": {},
   "outputs": [
    {
     "data": {
      "text/html": [
       "<div>\n",
       "<style scoped>\n",
       "    .dataframe tbody tr th:only-of-type {\n",
       "        vertical-align: middle;\n",
       "    }\n",
       "\n",
       "    .dataframe tbody tr th {\n",
       "        vertical-align: top;\n",
       "    }\n",
       "\n",
       "    .dataframe thead th {\n",
       "        text-align: right;\n",
       "    }\n",
       "</style>\n",
       "<table border=\"1\" class=\"dataframe\">\n",
       "  <thead>\n",
       "    <tr style=\"text-align: right;\">\n",
       "      <th></th>\n",
       "      <th>customer_id</th>\n",
       "      <th>artwork_id</th>\n",
       "      <th>order_date</th>\n",
       "      <th>artist_id</th>\n",
       "      <th>date</th>\n",
       "    </tr>\n",
       "  </thead>\n",
       "  <tbody>\n",
       "    <tr>\n",
       "      <th>433</th>\n",
       "      <td>18049</td>\n",
       "      <td>29199</td>\n",
       "      <td>2014-01-01 12:49:27.887</td>\n",
       "      <td>198</td>\n",
       "      <td>1388591367</td>\n",
       "    </tr>\n",
       "    <tr>\n",
       "      <th>5318</th>\n",
       "      <td>17840</td>\n",
       "      <td>28803</td>\n",
       "      <td>2014-01-02 14:11:15.163</td>\n",
       "      <td>15733</td>\n",
       "      <td>1388682675</td>\n",
       "    </tr>\n",
       "    <tr>\n",
       "      <th>3415</th>\n",
       "      <td>15173</td>\n",
       "      <td>21413</td>\n",
       "      <td>2014-01-02 21:58:46.343</td>\n",
       "      <td>12574</td>\n",
       "      <td>1388710726</td>\n",
       "    </tr>\n",
       "    <tr>\n",
       "      <th>246</th>\n",
       "      <td>18085</td>\n",
       "      <td>28801</td>\n",
       "      <td>2014-01-04 02:43:49.737</td>\n",
       "      <td>7636</td>\n",
       "      <td>1388814229</td>\n",
       "    </tr>\n",
       "    <tr>\n",
       "      <th>5864</th>\n",
       "      <td>12263</td>\n",
       "      <td>28536</td>\n",
       "      <td>2014-01-05 04:48:40.783</td>\n",
       "      <td>10986</td>\n",
       "      <td>1388908120</td>\n",
       "    </tr>\n",
       "  </tbody>\n",
       "</table>\n",
       "</div>"
      ],
      "text/plain": [
       "      customer_id  artwork_id               order_date  artist_id        date\n",
       "433         18049       29199  2014-01-01 12:49:27.887        198  1388591367\n",
       "5318        17840       28803  2014-01-02 14:11:15.163      15733  1388682675\n",
       "3415        15173       21413  2014-01-02 21:58:46.343      12574  1388710726\n",
       "246         18085       28801  2014-01-04 02:43:49.737       7636  1388814229\n",
       "5864        12263       28536  2014-01-05 04:48:40.783      10986  1388908120"
      ]
     },
     "execution_count": 12,
     "metadata": {},
     "output_type": "execute_result"
    }
   ],
   "source": [
    "data = data.sort_values(by=\"order_date\", ascending=True)\n",
    "data.head()"
   ]
  },
  {
   "cell_type": "markdown",
   "metadata": {},
   "source": [
    "**How many orders are actually contained?** Considering items bought at the same time (by the same user) part of a single order:"
   ]
  },
  {
   "cell_type": "code",
   "execution_count": 13,
   "metadata": {},
   "outputs": [
    {
     "data": {
      "text/plain": [
       "4897"
      ]
     },
     "execution_count": 13,
     "metadata": {},
     "output_type": "execute_result"
    }
   ],
   "source": [
    "len(data.groupby([\"order_date\", \"customer_id\"]))"
   ]
  },
  {
   "cell_type": "markdown",
   "metadata": {},
   "source": [
    "**What is the maximum number of items purchased in the same order?**"
   ]
  },
  {
   "cell_type": "code",
   "execution_count": 14,
   "metadata": {},
   "outputs": [],
   "source": [
    "grouped_orders = data.groupby([\"order_date\", \"customer_id\"])[\"artwork_id\"].apply(list).reset_index()\n",
    "grouped_orders[\"n_items\"] = grouped_orders[\"artwork_id\"].apply(len)"
   ]
  },
  {
   "cell_type": "code",
   "execution_count": 15,
   "metadata": {},
   "outputs": [
    {
     "data": {
      "text/plain": [
       "21"
      ]
     },
     "execution_count": 15,
     "metadata": {},
     "output_type": "execute_result"
    }
   ],
   "source": [
    "grouped_orders[\"n_items\"].max()"
   ]
  },
  {
   "cell_type": "code",
   "execution_count": 16,
   "metadata": {},
   "outputs": [
    {
     "data": {
      "text/plain": [
       "array([list([31715, 34161, 33163, 34067, 26013, 36777, 26014, 33766, 23463, 18979, 32545, 19430, 37596, 29884, 32522, 26461, 37595, 32222, 36654, 34156, 19429])],\n",
       "      dtype=object)"
      ]
     },
     "execution_count": 16,
     "metadata": {},
     "output_type": "execute_result"
    }
   ],
   "source": [
    "grouped_orders[grouped_orders[\"n_items\"] == grouped_orders[\"n_items\"].max()][\"artwork_id\"].values"
   ]
  },
  {
   "cell_type": "markdown",
   "metadata": {},
   "source": [
    "**Did any user buy the same item more than once?**"
   ]
  },
  {
   "cell_type": "code",
   "execution_count": 17,
   "metadata": {},
   "outputs": [
    {
     "name": "stdout",
     "output_type": "stream",
     "text": [
      "Customer 14580 bought: [24424 13251 24424 39701 41240 33222 40275 40808]\n",
      "Customer 18402 bought: [21084 21084]\n",
      "Customer 19628 bought: [17033 33416 10913 19203 27786 13248 32843 10816 26675 10816 28202 23130\n",
      " 34493 28572 34495]\n",
      "Customer 20691 bought: [32132 26223 32458 32132 21462 38569 40623 39076 40496]\n",
      "Customer 25126 bought: [29901 36653 29901]\n",
      "Customer 25450 bought: [10846 10625 10625]\n"
     ]
    }
   ],
   "source": [
    "for customer_id, group in data.groupby([\"customer_id\"]):\n",
    "    purchased_items = group[\"artwork_id\"].values\n",
    "    if len(purchased_items) != len(set(purchased_items)):\n",
    "        print(f\"Customer {customer_id} bought: {purchased_items}\")\n"
   ]
  },
  {
   "cell_type": "markdown",
   "metadata": {},
   "source": [
    "**Number of interactions per user?**"
   ]
  },
  {
   "cell_type": "code",
   "execution_count": 18,
   "metadata": {},
   "outputs": [
    {
     "data": {
      "text/plain": [
       "count    2919.000000\n",
       "mean        2.238780\n",
       "std         5.968692\n",
       "min         1.000000\n",
       "25%         1.000000\n",
       "50%         1.000000\n",
       "75%         2.000000\n",
       "max       271.000000\n",
       "Name: artwork_id, dtype: float64"
      ]
     },
     "execution_count": 18,
     "metadata": {},
     "output_type": "execute_result"
    }
   ],
   "source": [
    "users = data.groupby([\"customer_id\"]).count()[\"artwork_id\"]\n",
    "users.describe()"
   ]
  },
  {
   "cell_type": "markdown",
   "metadata": {},
   "source": [
    "**Most active items?**"
   ]
  },
  {
   "cell_type": "code",
   "execution_count": 19,
   "metadata": {
    "scrolled": true
   },
   "outputs": [
    {
     "data": {
      "text/plain": [
       "count    6030.000000\n",
       "mean        1.083748\n",
       "std         0.523571\n",
       "min         1.000000\n",
       "25%         1.000000\n",
       "50%         1.000000\n",
       "75%         1.000000\n",
       "max        16.000000\n",
       "Name: customer_id, dtype: float64"
      ]
     },
     "execution_count": 19,
     "metadata": {},
     "output_type": "execute_result"
    }
   ],
   "source": [
    "items = data.groupby([\"artwork_id\"]).count()[\"customer_id\"]\n",
    "items.describe()"
   ]
  },
  {
   "cell_type": "code",
   "execution_count": 20,
   "metadata": {},
   "outputs": [
    {
     "data": {
      "text/plain": [
       "artwork_id\n",
       "24424    16\n",
       "41937    11\n",
       "31527    11\n",
       "21198    10\n",
       "13280     9\n",
       "Name: customer_id, dtype: int64"
      ]
     },
     "execution_count": 20,
     "metadata": {},
     "output_type": "execute_result"
    }
   ],
   "source": [
    "most_active_items = items.sort_values(ascending=False)\n",
    "most_active_items.head()"
   ]
  },
  {
   "cell_type": "code",
   "execution_count": 21,
   "metadata": {},
   "outputs": [
    {
     "name": "stdout",
     "output_type": "stream",
     "text": [
      "0.87 % of interactions comes from the top 5 most active items\n"
     ]
    }
   ],
   "source": [
    "N = 5\n",
    "interactions_by_active_items = most_active_items[:N].sum() / items.sum() * 100\n",
    "print(f\"{interactions_by_active_items:.2f} % of interactions comes from the top {N} most active items\")"
   ]
  },
  {
   "cell_type": "code",
   "execution_count": 22,
   "metadata": {},
   "outputs": [
    {
     "data": {
      "image/png": "[encoded data removed]",
      "text/plain": [
       "<Figure size 432x288 with 1 Axes>"
      ]
     },
     "metadata": {
      "image/png": {
       "height": 248,
       "width": 381
      },
      "needs_background": "light"
     },
     "output_type": "display_data"
    }
   ],
   "source": [
    "sorted_data = np.sort(most_active_items)\n",
    "plt.step(sorted_data, np.arange(sorted_data.size))\n",
    "plt.show()"
   ]
  },
  {
   "cell_type": "code",
   "execution_count": 23,
   "metadata": {},
   "outputs": [
    {
     "data": {
      "image/png": "[encoded data removed]",
      "text/plain": [
       "<Figure size 432x288 with 1 Axes>"
      ]
     },
     "metadata": {
      "image/png": {
       "height": 304,
       "width": 395
      },
      "needs_background": "light"
     },
     "output_type": "display_data"
    }
   ],
   "source": [
    "bins = list(range(1, 5)) + [items.max()]\n",
    "\n",
    "hist, bins = np.histogram(items, bins)\n",
    "x_axis = np.arange(0, len(hist))\n",
    "plt.bar(x_axis, hist)\n",
    "bin_names = [f\"[{bins[i]} - {bins[i+1]})\" for i in range(len(hist))]\n",
    "plt.xticks(x_axis, bin_names, rotation=90)\n",
    "\n",
    "# Title and labels\n",
    "plt.title(\"Interactions per item\")\n",
    "plt.xlabel(\"# interactions\")\n",
    "plt.ylabel(\"# items\")\n",
    "plt.show()"
   ]
  },
  {
   "cell_type": "markdown",
   "metadata": {},
   "source": [
    "**Most active users?**"
   ]
  },
  {
   "cell_type": "code",
   "execution_count": 24,
   "metadata": {},
   "outputs": [
    {
     "data": {
      "text/plain": [
       "customer_id\n",
       "39573    271\n",
       "17426     62\n",
       "27648     61\n",
       "30020     51\n",
       "23287     43\n",
       "Name: artwork_id, dtype: int64"
      ]
     },
     "execution_count": 24,
     "metadata": {},
     "output_type": "execute_result"
    }
   ],
   "source": [
    "most_active_users = users.sort_values(ascending=False)\n",
    "most_active_users.head()"
   ]
  },
  {
   "cell_type": "code",
   "execution_count": 25,
   "metadata": {},
   "outputs": [
    {
     "name": "stdout",
     "output_type": "stream",
     "text": [
      "7.47 % of interactions comes from the top 5 most active users\n"
     ]
    }
   ],
   "source": [
    "N = 5\n",
    "interactions_by_active_users = most_active_users[:N].sum() / users.sum() * 100\n",
    "print(f\"{interactions_by_active_users:.2f} % of interactions comes from the top {N} most active users\")"
   ]
  },
  {
   "cell_type": "code",
   "execution_count": 26,
   "metadata": {},
   "outputs": [
    {
     "data": {
      "image/png": "[encoded data removed]",
      "text/plain": [
       "<Figure size 432x288 with 1 Axes>"
      ]
     },
     "metadata": {
      "image/png": {
       "height": 248,
       "width": 381
      },
      "needs_background": "light"
     },
     "output_type": "display_data"
    }
   ],
   "source": [
    "import numpy as np\n",
    "\n",
    "\n",
    "sorted_data = np.sort(most_active_users)\n",
    "plt.step(sorted_data, np.arange(sorted_data.size))\n",
    "plt.show()"
   ]
  },
  {
   "cell_type": "code",
   "execution_count": 27,
   "metadata": {},
   "outputs": [
    {
     "data": {
      "image/png": "[encoded data removed]",
      "text/plain": [
       "<Figure size 432x288 with 1 Axes>"
      ]
     },
     "metadata": {
      "image/png": {
       "height": 313,
       "width": 395
      },
      "needs_background": "light"
     },
     "output_type": "display_data"
    }
   ],
   "source": [
    "bins = list(range(1, 11)) + [users.max()]\n",
    "\n",
    "hist, bins = np.histogram(users, bins)\n",
    "x_axis = np.arange(0, len(hist))\n",
    "plt.bar(x_axis, hist)\n",
    "bin_names = [f\"[{bins[i]}, {bins[i+1]})\" for i in range(len(hist))]\n",
    "plt.xticks(x_axis, bin_names, rotation=90)\n",
    "\n",
    "# Title and labels\n",
    "plt.title(\"Interactions per user\")\n",
    "plt.xlabel(\"# interactions\")\n",
    "plt.ylabel(\"# users\")\n",
    "plt.show()"
   ]
  },
  {
   "cell_type": "markdown",
   "metadata": {},
   "source": [
    "## Output"
   ]
  },
  {
   "cell_type": "code",
   "execution_count": 28,
   "metadata": {},
   "outputs": [
    {
     "name": "stdout",
     "output_type": "stream",
     "text": [
      "Unique users: 2919\n",
      "Unique items: 13297\n",
      "Unique items 'interacted': 6030\n",
      "Interactions per user: 2.23878040424803 +/- 5.968691735577569\n",
      "Interactions per item: 0.49146424005414757 +/- 0.7904940087948841\n",
      "Interactions per 'interacted' item: 1.0837479270315091 +/- 0.5235706948360849\n",
      "Possible interactions: 38813943\n",
      "Sparsity: 0.016837%\n"
     ]
    }
   ],
   "source": [
    "n_users = data[\"customer_id\"].nunique()\n",
    "n_items = data[\"artwork_id\"].nunique()\n",
    "n_items_gt = 13297  \n",
    "print(f\"Unique users: {n_users}\")\n",
    "print(f\"Unique items: {n_items_gt}\")\n",
    "print(f\"Unique items 'interacted': {n_items}\")\n",
    "print(f\"Interactions per user: {users.mean()} +/- {users.std()}\")\n",
    "actual_mean = items.sum() / n_items_gt\n",
    "actual_std = np.sqrt(np.mean(np.abs(items - actual_mean)**2))\n",
    "print(f\"Interactions per item: {actual_mean} +/- {actual_std}\") \n",
    "print(f\"Interactions per 'interacted' item: {items.mean()} +/- {items.std()}\")\n",
    "possible_interactions = n_users * n_items_gt\n",
    "print(f\"Possible interactions: {possible_interactions}\")\n",
    "print(f\"Sparsity: {100 * len(data) / possible_interactions:2f}%\")"
   ]
  },
  {
   "cell_type": "code",
   "execution_count": 29,
   "metadata": {},
   "outputs": [],
   "source": [
    "data = data.drop([\"order_date\"], axis=1)\n",
    "data = data.rename(columns={\n",
    "    \"customer_id\": \"user_id\",\n",
    "    \"artwork_id\": \"item_id\",\n",
    "    \"date\": \"timestamp\",\n",
    "})\n",
    "data = data[[\"user_id\", \"item_id\", \"artist_id\", \"timestamp\"]]\n",
    "data = data.sort_values(\"timestamp\")\n",
    "data = data.reset_index(drop=True)"
   ]
  },
  {
   "cell_type": "code",
   "execution_count": 30,
   "metadata": {},
   "outputs": [],
   "source": [
    "data.to_csv(\"ugallery.csv\", index=False)"
   ]
  },
  {
   "cell_type": "code",
   "execution_count": 31,
   "metadata": {},
   "outputs": [
    {
     "data": {
      "text/html": [
       "<div>\n",
       "<style scoped>\n",
       "    .dataframe tbody tr th:only-of-type {\n",
       "        vertical-align: middle;\n",
       "    }\n",
       "\n",
       "    .dataframe tbody tr th {\n",
       "        vertical-align: top;\n",
       "    }\n",
       "\n",
       "    .dataframe thead th {\n",
       "        text-align: right;\n",
       "    }\n",
       "</style>\n",
       "<table border=\"1\" class=\"dataframe\">\n",
       "  <thead>\n",
       "    <tr style=\"text-align: right;\">\n",
       "      <th></th>\n",
       "      <th>user_id</th>\n",
       "      <th>item_id</th>\n",
       "      <th>artist_id</th>\n",
       "      <th>timestamp</th>\n",
       "    </tr>\n",
       "  </thead>\n",
       "  <tbody>\n",
       "    <tr>\n",
       "      <th>0</th>\n",
       "      <td>18049</td>\n",
       "      <td>29199</td>\n",
       "      <td>198</td>\n",
       "      <td>1388591367</td>\n",
       "    </tr>\n",
       "    <tr>\n",
       "      <th>1</th>\n",
       "      <td>17840</td>\n",
       "      <td>28803</td>\n",
       "      <td>15733</td>\n",
       "      <td>1388682675</td>\n",
       "    </tr>\n",
       "    <tr>\n",
       "      <th>2</th>\n",
       "      <td>15173</td>\n",
       "      <td>21413</td>\n",
       "      <td>12574</td>\n",
       "      <td>1388710726</td>\n",
       "    </tr>\n",
       "    <tr>\n",
       "      <th>3</th>\n",
       "      <td>18085</td>\n",
       "      <td>28801</td>\n",
       "      <td>7636</td>\n",
       "      <td>1388814229</td>\n",
       "    </tr>\n",
       "    <tr>\n",
       "      <th>4</th>\n",
       "      <td>12263</td>\n",
       "      <td>28536</td>\n",
       "      <td>10986</td>\n",
       "      <td>1388908120</td>\n",
       "    </tr>\n",
       "    <tr>\n",
       "      <th>...</th>\n",
       "      <td>...</td>\n",
       "      <td>...</td>\n",
       "      <td>...</td>\n",
       "      <td>...</td>\n",
       "    </tr>\n",
       "    <tr>\n",
       "      <th>6530</th>\n",
       "      <td>40068</td>\n",
       "      <td>59696</td>\n",
       "      <td>13607</td>\n",
       "      <td>1527775833</td>\n",
       "    </tr>\n",
       "    <tr>\n",
       "      <th>6531</th>\n",
       "      <td>44348</td>\n",
       "      <td>60160</td>\n",
       "      <td>43901</td>\n",
       "      <td>1527805071</td>\n",
       "    </tr>\n",
       "    <tr>\n",
       "      <th>6532</th>\n",
       "      <td>44434</td>\n",
       "      <td>52301</td>\n",
       "      <td>37482</td>\n",
       "      <td>1527810485</td>\n",
       "    </tr>\n",
       "    <tr>\n",
       "      <th>6533</th>\n",
       "      <td>44434</td>\n",
       "      <td>57794</td>\n",
       "      <td>33727</td>\n",
       "      <td>1527810485</td>\n",
       "    </tr>\n",
       "    <tr>\n",
       "      <th>6534</th>\n",
       "      <td>42972</td>\n",
       "      <td>58358</td>\n",
       "      <td>43038</td>\n",
       "      <td>1527820471</td>\n",
       "    </tr>\n",
       "  </tbody>\n",
       "</table>\n",
       "<p>6535 rows × 4 columns</p>\n",
       "</div>"
      ],
      "text/plain": [
       "      user_id  item_id  artist_id   timestamp\n",
       "0       18049    29199        198  1388591367\n",
       "1       17840    28803      15733  1388682675\n",
       "2       15173    21413      12574  1388710726\n",
       "3       18085    28801       7636  1388814229\n",
       "4       12263    28536      10986  1388908120\n",
       "...       ...      ...        ...         ...\n",
       "6530    40068    59696      13607  1527775833\n",
       "6531    44348    60160      43901  1527805071\n",
       "6532    44434    52301      37482  1527810485\n",
       "6533    44434    57794      33727  1527810485\n",
       "6534    42972    58358      43038  1527820471\n",
       "\n",
       "[6535 rows x 4 columns]"
      ]
     },
     "execution_count": 31,
     "metadata": {},
     "output_type": "execute_result"
    }
   ],
   "source": [
    "data"
   ]
  }
 ],
 "metadata": {
  "kernelspec": {
   "display_name": "3.8.5",
   "language": "python",
   "name": "3.8.5"
  },
  "language_info": {
   "codemirror_mode": {
    "name": "ipython",
    "version": 3
   },
   "file_extension": ".py",
   "mimetype": "text/x-python",
   "name": "python",
   "nbconvert_exporter": "python",
   "pygments_lexer": "ipython3",
   "version": "3.8.5"
  }
 },
 "nbformat": 4,
 "nbformat_minor": 4
}
